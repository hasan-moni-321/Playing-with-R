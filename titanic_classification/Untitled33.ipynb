{
 "cells": [
  {
   "cell_type": "code",
   "execution_count": 240,
   "id": "white-promotion",
   "metadata": {},
   "outputs": [],
   "source": [
    "library(tidyverse)\n",
    "library(caret)\n",
    "library(tidyr)\n",
    "library(dplyr)\n",
    "library(pROC)"
   ]
  },
  {
   "cell_type": "code",
   "execution_count": null,
   "id": "executive-bulgaria",
   "metadata": {},
   "outputs": [],
   "source": []
  },
  {
   "cell_type": "markdown",
   "id": "attached-runner",
   "metadata": {},
   "source": [
    "# Reading Dataset"
   ]
  },
  {
   "cell_type": "code",
   "execution_count": 225,
   "id": "touched-treasure",
   "metadata": {},
   "outputs": [
    {
     "data": {
      "text/html": [
       "<table>\n",
       "<thead><tr><th scope=col>PassengerId</th><th scope=col>Survived</th><th scope=col>Pclass</th><th scope=col>Name</th><th scope=col>Sex</th><th scope=col>Age</th><th scope=col>SibSp</th><th scope=col>Parch</th><th scope=col>Ticket</th><th scope=col>Fare</th><th scope=col>Cabin</th><th scope=col>Embarked</th></tr></thead>\n",
       "<tbody>\n",
       "\t<tr><td>1                                                  </td><td>0                                                  </td><td>3                                                  </td><td>Braund, Mr. Owen Harris                            </td><td>male                                               </td><td>22                                                 </td><td>1                                                  </td><td>0                                                  </td><td>A/5 21171                                          </td><td> 7.2500                                            </td><td>                                                   </td><td>S                                                  </td></tr>\n",
       "\t<tr><td>2                                                  </td><td>1                                                  </td><td>1                                                  </td><td>Cumings, Mrs. John Bradley (Florence Briggs Thayer)</td><td>female                                             </td><td>38                                                 </td><td>1                                                  </td><td>0                                                  </td><td>PC 17599                                           </td><td>71.2833                                            </td><td>C85                                                </td><td>C                                                  </td></tr>\n",
       "\t<tr><td>3                                                  </td><td>1                                                  </td><td>3                                                  </td><td>Heikkinen, Miss. Laina                             </td><td>female                                             </td><td>26                                                 </td><td>0                                                  </td><td>0                                                  </td><td>STON/O2. 3101282                                   </td><td> 7.9250                                            </td><td>                                                   </td><td>S                                                  </td></tr>\n",
       "\t<tr><td>4                                                  </td><td>1                                                  </td><td>1                                                  </td><td>Futrelle, Mrs. Jacques Heath (Lily May Peel)       </td><td>female                                             </td><td>35                                                 </td><td>1                                                  </td><td>0                                                  </td><td>113803                                             </td><td>53.1000                                            </td><td>C123                                               </td><td>S                                                  </td></tr>\n",
       "\t<tr><td>5                                                  </td><td>0                                                  </td><td>3                                                  </td><td>Allen, Mr. William Henry                           </td><td>male                                               </td><td>35                                                 </td><td>0                                                  </td><td>0                                                  </td><td>373450                                             </td><td> 8.0500                                            </td><td>                                                   </td><td>S                                                  </td></tr>\n",
       "\t<tr><td>6                                                  </td><td>0                                                  </td><td>3                                                  </td><td>Moran, Mr. James                                   </td><td>male                                               </td><td>NA                                                 </td><td>0                                                  </td><td>0                                                  </td><td>330877                                             </td><td> 8.4583                                            </td><td>                                                   </td><td>Q                                                  </td></tr>\n",
       "</tbody>\n",
       "</table>\n"
      ],
      "text/latex": [
       "\\begin{tabular}{r|llllllllllll}\n",
       " PassengerId & Survived & Pclass & Name & Sex & Age & SibSp & Parch & Ticket & Fare & Cabin & Embarked\\\\\n",
       "\\hline\n",
       "\t 1                                                   & 0                                                   & 3                                                   & Braund, Mr. Owen Harris                             & male                                                & 22                                                  & 1                                                   & 0                                                   & A/5 21171                                           &  7.2500                                             &                                                     & S                                                  \\\\\n",
       "\t 2                                                   & 1                                                   & 1                                                   & Cumings, Mrs. John Bradley (Florence Briggs Thayer) & female                                              & 38                                                  & 1                                                   & 0                                                   & PC 17599                                            & 71.2833                                             & C85                                                 & C                                                  \\\\\n",
       "\t 3                                                   & 1                                                   & 3                                                   & Heikkinen, Miss. Laina                              & female                                              & 26                                                  & 0                                                   & 0                                                   & STON/O2. 3101282                                    &  7.9250                                             &                                                     & S                                                  \\\\\n",
       "\t 4                                                   & 1                                                   & 1                                                   & Futrelle, Mrs. Jacques Heath (Lily May Peel)        & female                                              & 35                                                  & 1                                                   & 0                                                   & 113803                                              & 53.1000                                             & C123                                                & S                                                  \\\\\n",
       "\t 5                                                   & 0                                                   & 3                                                   & Allen, Mr. William Henry                            & male                                                & 35                                                  & 0                                                   & 0                                                   & 373450                                              &  8.0500                                             &                                                     & S                                                  \\\\\n",
       "\t 6                                                   & 0                                                   & 3                                                   & Moran, Mr. James                                    & male                                                & NA                                                  & 0                                                   & 0                                                   & 330877                                              &  8.4583                                             &                                                     & Q                                                  \\\\\n",
       "\\end{tabular}\n"
      ],
      "text/markdown": [
       "\n",
       "| PassengerId | Survived | Pclass | Name | Sex | Age | SibSp | Parch | Ticket | Fare | Cabin | Embarked |\n",
       "|---|---|---|---|---|---|---|---|---|---|---|---|\n",
       "| 1                                                   | 0                                                   | 3                                                   | Braund, Mr. Owen Harris                             | male                                                | 22                                                  | 1                                                   | 0                                                   | A/5 21171                                           |  7.2500                                             |                                                     | S                                                   |\n",
       "| 2                                                   | 1                                                   | 1                                                   | Cumings, Mrs. John Bradley (Florence Briggs Thayer) | female                                              | 38                                                  | 1                                                   | 0                                                   | PC 17599                                            | 71.2833                                             | C85                                                 | C                                                   |\n",
       "| 3                                                   | 1                                                   | 3                                                   | Heikkinen, Miss. Laina                              | female                                              | 26                                                  | 0                                                   | 0                                                   | STON/O2. 3101282                                    |  7.9250                                             |                                                     | S                                                   |\n",
       "| 4                                                   | 1                                                   | 1                                                   | Futrelle, Mrs. Jacques Heath (Lily May Peel)        | female                                              | 35                                                  | 1                                                   | 0                                                   | 113803                                              | 53.1000                                             | C123                                                | S                                                   |\n",
       "| 5                                                   | 0                                                   | 3                                                   | Allen, Mr. William Henry                            | male                                                | 35                                                  | 0                                                   | 0                                                   | 373450                                              |  8.0500                                             |                                                     | S                                                   |\n",
       "| 6                                                   | 0                                                   | 3                                                   | Moran, Mr. James                                    | male                                                | NA                                                  | 0                                                   | 0                                                   | 330877                                              |  8.4583                                             |                                                     | Q                                                   |\n",
       "\n"
      ],
      "text/plain": [
       "  PassengerId Survived Pclass\n",
       "1 1           0        3     \n",
       "2 2           1        1     \n",
       "3 3           1        3     \n",
       "4 4           1        1     \n",
       "5 5           0        3     \n",
       "6 6           0        3     \n",
       "  Name                                                Sex    Age SibSp Parch\n",
       "1 Braund, Mr. Owen Harris                             male   22  1     0    \n",
       "2 Cumings, Mrs. John Bradley (Florence Briggs Thayer) female 38  1     0    \n",
       "3 Heikkinen, Miss. Laina                              female 26  0     0    \n",
       "4 Futrelle, Mrs. Jacques Heath (Lily May Peel)        female 35  1     0    \n",
       "5 Allen, Mr. William Henry                            male   35  0     0    \n",
       "6 Moran, Mr. James                                    male   NA  0     0    \n",
       "  Ticket           Fare    Cabin Embarked\n",
       "1 A/5 21171         7.2500       S       \n",
       "2 PC 17599         71.2833 C85   C       \n",
       "3 STON/O2. 3101282  7.9250       S       \n",
       "4 113803           53.1000 C123  S       \n",
       "5 373450            8.0500       S       \n",
       "6 330877            8.4583       Q       "
      ]
     },
     "metadata": {},
     "output_type": "display_data"
    }
   ],
   "source": [
    "data <- read.csv(\"/home/hasan/Data Set/titanic/train.csv\")\n",
    "head(data)"
   ]
  },
  {
   "cell_type": "markdown",
   "id": "indirect-aggregate",
   "metadata": {},
   "source": [
    "# Data Preprocessing"
   ]
  },
  {
   "cell_type": "code",
   "execution_count": 226,
   "id": "atomic-convertible",
   "metadata": {},
   "outputs": [
    {
     "data": {
      "text/html": [
       "<table>\n",
       "<thead><tr><th scope=col>Pclass</th><th scope=col>Sex</th><th scope=col>Age</th><th scope=col>SibSp</th><th scope=col>Parch</th><th scope=col>Fare</th><th scope=col>Embarked</th><th scope=col>Survived</th></tr></thead>\n",
       "<tbody>\n",
       "\t<tr><td>3      </td><td>male   </td><td>22     </td><td>1      </td><td>0      </td><td> 7.2500</td><td>S      </td><td>0      </td></tr>\n",
       "\t<tr><td>1      </td><td>female </td><td>38     </td><td>1      </td><td>0      </td><td>71.2833</td><td>C      </td><td>1      </td></tr>\n",
       "\t<tr><td>3      </td><td>female </td><td>26     </td><td>0      </td><td>0      </td><td> 7.9250</td><td>S      </td><td>1      </td></tr>\n",
       "\t<tr><td>1      </td><td>female </td><td>35     </td><td>1      </td><td>0      </td><td>53.1000</td><td>S      </td><td>1      </td></tr>\n",
       "\t<tr><td>3      </td><td>male   </td><td>35     </td><td>0      </td><td>0      </td><td> 8.0500</td><td>S      </td><td>0      </td></tr>\n",
       "\t<tr><td>3      </td><td>male   </td><td>NA     </td><td>0      </td><td>0      </td><td> 8.4583</td><td>Q      </td><td>0      </td></tr>\n",
       "</tbody>\n",
       "</table>\n"
      ],
      "text/latex": [
       "\\begin{tabular}{r|llllllll}\n",
       " Pclass & Sex & Age & SibSp & Parch & Fare & Embarked & Survived\\\\\n",
       "\\hline\n",
       "\t 3       & male    & 22      & 1       & 0       &  7.2500 & S       & 0      \\\\\n",
       "\t 1       & female  & 38      & 1       & 0       & 71.2833 & C       & 1      \\\\\n",
       "\t 3       & female  & 26      & 0       & 0       &  7.9250 & S       & 1      \\\\\n",
       "\t 1       & female  & 35      & 1       & 0       & 53.1000 & S       & 1      \\\\\n",
       "\t 3       & male    & 35      & 0       & 0       &  8.0500 & S       & 0      \\\\\n",
       "\t 3       & male    & NA      & 0       & 0       &  8.4583 & Q       & 0      \\\\\n",
       "\\end{tabular}\n"
      ],
      "text/markdown": [
       "\n",
       "| Pclass | Sex | Age | SibSp | Parch | Fare | Embarked | Survived |\n",
       "|---|---|---|---|---|---|---|---|\n",
       "| 3       | male    | 22      | 1       | 0       |  7.2500 | S       | 0       |\n",
       "| 1       | female  | 38      | 1       | 0       | 71.2833 | C       | 1       |\n",
       "| 3       | female  | 26      | 0       | 0       |  7.9250 | S       | 1       |\n",
       "| 1       | female  | 35      | 1       | 0       | 53.1000 | S       | 1       |\n",
       "| 3       | male    | 35      | 0       | 0       |  8.0500 | S       | 0       |\n",
       "| 3       | male    | NA      | 0       | 0       |  8.4583 | Q       | 0       |\n",
       "\n"
      ],
      "text/plain": [
       "  Pclass Sex    Age SibSp Parch Fare    Embarked Survived\n",
       "1 3      male   22  1     0      7.2500 S        0       \n",
       "2 1      female 38  1     0     71.2833 C        1       \n",
       "3 3      female 26  0     0      7.9250 S        1       \n",
       "4 1      female 35  1     0     53.1000 S        1       \n",
       "5 3      male   35  0     0      8.0500 S        0       \n",
       "6 3      male   NA  0     0      8.4583 Q        0       "
      ]
     },
     "metadata": {},
     "output_type": "display_data"
    }
   ],
   "source": [
    "# Selecting necessary columns\n",
    "data <- select(data, Pclass, Sex, Age, SibSp, Parch, Fare, Embarked, Survived)\n",
    "head(data)"
   ]
  },
  {
   "cell_type": "code",
   "execution_count": 227,
   "id": "antique-alpha",
   "metadata": {},
   "outputs": [],
   "source": [
    "#data <- data.frame(data)\n",
    "#head(data)"
   ]
  },
  {
   "cell_type": "code",
   "execution_count": 228,
   "id": "colonial-polyester",
   "metadata": {},
   "outputs": [
    {
     "data": {
      "text/html": [
       "<ol class=list-inline>\n",
       "\t<li>891</li>\n",
       "\t<li>8</li>\n",
       "</ol>\n"
      ],
      "text/latex": [
       "\\begin{enumerate*}\n",
       "\\item 891\n",
       "\\item 8\n",
       "\\end{enumerate*}\n"
      ],
      "text/markdown": [
       "1. 891\n",
       "2. 8\n",
       "\n",
       "\n"
      ],
      "text/plain": [
       "[1] 891   8"
      ]
     },
     "metadata": {},
     "output_type": "display_data"
    }
   ],
   "source": [
    "dim(data)"
   ]
  },
  {
   "cell_type": "code",
   "execution_count": 229,
   "id": "scheduled-police",
   "metadata": {},
   "outputs": [
    {
     "data": {
      "text/html": [
       "<table>\n",
       "<thead><tr><th></th><th scope=col>na_count</th></tr></thead>\n",
       "<tbody>\n",
       "\t<tr><th scope=row>Pclass</th><td>  0</td></tr>\n",
       "\t<tr><th scope=row>Sex</th><td>  0</td></tr>\n",
       "\t<tr><th scope=row>Age</th><td>177</td></tr>\n",
       "\t<tr><th scope=row>SibSp</th><td>  0</td></tr>\n",
       "\t<tr><th scope=row>Parch</th><td>  0</td></tr>\n",
       "\t<tr><th scope=row>Fare</th><td>  0</td></tr>\n",
       "\t<tr><th scope=row>Embarked</th><td>  0</td></tr>\n",
       "\t<tr><th scope=row>Survived</th><td>  0</td></tr>\n",
       "</tbody>\n",
       "</table>\n"
      ],
      "text/latex": [
       "\\begin{tabular}{r|l}\n",
       "  & na\\_count\\\\\n",
       "\\hline\n",
       "\tPclass &   0\\\\\n",
       "\tSex &   0\\\\\n",
       "\tAge & 177\\\\\n",
       "\tSibSp &   0\\\\\n",
       "\tParch &   0\\\\\n",
       "\tFare &   0\\\\\n",
       "\tEmbarked &   0\\\\\n",
       "\tSurvived &   0\\\\\n",
       "\\end{tabular}\n"
      ],
      "text/markdown": [
       "\n",
       "| <!--/--> | na_count |\n",
       "|---|---|\n",
       "| Pclass |   0 |\n",
       "| Sex |   0 |\n",
       "| Age | 177 |\n",
       "| SibSp |   0 |\n",
       "| Parch |   0 |\n",
       "| Fare |   0 |\n",
       "| Embarked |   0 |\n",
       "| Survived |   0 |\n",
       "\n"
      ],
      "text/plain": [
       "         na_count\n",
       "Pclass     0     \n",
       "Sex        0     \n",
       "Age      177     \n",
       "SibSp      0     \n",
       "Parch      0     \n",
       "Fare       0     \n",
       "Embarked   0     \n",
       "Survived   0     "
      ]
     },
     "metadata": {},
     "output_type": "display_data"
    }
   ],
   "source": [
    "# Checking missing values \n",
    "na_count <- sapply(data, function(y) sum(length(which(is.na(y)))))\n",
    "na_count <- data.frame(na_count)\n",
    "na_count"
   ]
  },
  {
   "cell_type": "code",
   "execution_count": 230,
   "id": "revised-following",
   "metadata": {},
   "outputs": [
    {
     "data": {
      "text/html": [
       "<table>\n",
       "<thead><tr><th></th><th scope=col>Pclass</th><th scope=col>Sex</th><th scope=col>Age</th><th scope=col>SibSp</th><th scope=col>Parch</th><th scope=col>Fare</th><th scope=col>Embarked</th><th scope=col>Survived</th></tr></thead>\n",
       "<tbody>\n",
       "\t<tr><th scope=row>1</th><td>3      </td><td>male   </td><td>22     </td><td>1      </td><td>0      </td><td> 7.2500</td><td>S      </td><td>0      </td></tr>\n",
       "\t<tr><th scope=row>2</th><td>1      </td><td>female </td><td>38     </td><td>1      </td><td>0      </td><td>71.2833</td><td>C      </td><td>1      </td></tr>\n",
       "\t<tr><th scope=row>3</th><td>3      </td><td>female </td><td>26     </td><td>0      </td><td>0      </td><td> 7.9250</td><td>S      </td><td>1      </td></tr>\n",
       "\t<tr><th scope=row>4</th><td>1      </td><td>female </td><td>35     </td><td>1      </td><td>0      </td><td>53.1000</td><td>S      </td><td>1      </td></tr>\n",
       "\t<tr><th scope=row>5</th><td>3      </td><td>male   </td><td>35     </td><td>0      </td><td>0      </td><td> 8.0500</td><td>S      </td><td>0      </td></tr>\n",
       "\t<tr><th scope=row>7</th><td>1      </td><td>male   </td><td>54     </td><td>0      </td><td>0      </td><td>51.8625</td><td>S      </td><td>0      </td></tr>\n",
       "</tbody>\n",
       "</table>\n"
      ],
      "text/latex": [
       "\\begin{tabular}{r|llllllll}\n",
       "  & Pclass & Sex & Age & SibSp & Parch & Fare & Embarked & Survived\\\\\n",
       "\\hline\n",
       "\t1 & 3       & male    & 22      & 1       & 0       &  7.2500 & S       & 0      \\\\\n",
       "\t2 & 1       & female  & 38      & 1       & 0       & 71.2833 & C       & 1      \\\\\n",
       "\t3 & 3       & female  & 26      & 0       & 0       &  7.9250 & S       & 1      \\\\\n",
       "\t4 & 1       & female  & 35      & 1       & 0       & 53.1000 & S       & 1      \\\\\n",
       "\t5 & 3       & male    & 35      & 0       & 0       &  8.0500 & S       & 0      \\\\\n",
       "\t7 & 1       & male    & 54      & 0       & 0       & 51.8625 & S       & 0      \\\\\n",
       "\\end{tabular}\n"
      ],
      "text/markdown": [
       "\n",
       "| <!--/--> | Pclass | Sex | Age | SibSp | Parch | Fare | Embarked | Survived |\n",
       "|---|---|---|---|---|---|---|---|---|\n",
       "| 1 | 3       | male    | 22      | 1       | 0       |  7.2500 | S       | 0       |\n",
       "| 2 | 1       | female  | 38      | 1       | 0       | 71.2833 | C       | 1       |\n",
       "| 3 | 3       | female  | 26      | 0       | 0       |  7.9250 | S       | 1       |\n",
       "| 4 | 1       | female  | 35      | 1       | 0       | 53.1000 | S       | 1       |\n",
       "| 5 | 3       | male    | 35      | 0       | 0       |  8.0500 | S       | 0       |\n",
       "| 7 | 1       | male    | 54      | 0       | 0       | 51.8625 | S       | 0       |\n",
       "\n"
      ],
      "text/plain": [
       "  Pclass Sex    Age SibSp Parch Fare    Embarked Survived\n",
       "1 3      male   22  1     0      7.2500 S        0       \n",
       "2 1      female 38  1     0     71.2833 C        1       \n",
       "3 3      female 26  0     0      7.9250 S        1       \n",
       "4 1      female 35  1     0     53.1000 S        1       \n",
       "5 3      male   35  0     0      8.0500 S        0       \n",
       "7 1      male   54  0     0     51.8625 S        0       "
      ]
     },
     "metadata": {},
     "output_type": "display_data"
    }
   ],
   "source": [
    "# Removing rows with missing data\n",
    "data <- data[rowSums(is.na(data)) == 0,]\n",
    "head(data)"
   ]
  },
  {
   "cell_type": "code",
   "execution_count": null,
   "id": "trained-coaching",
   "metadata": {},
   "outputs": [],
   "source": []
  },
  {
   "cell_type": "code",
   "execution_count": 231,
   "id": "revised-anderson",
   "metadata": {},
   "outputs": [
    {
     "data": {
      "text/html": [
       "<table>\n",
       "<thead><tr><th></th><th scope=col>Pclass</th><th scope=col>Sex</th><th scope=col>Age</th><th scope=col>SibSp</th><th scope=col>Parch</th><th scope=col>Fare</th><th scope=col>Embarked</th><th scope=col>Survived</th></tr></thead>\n",
       "<tbody>\n",
       "\t<tr><th scope=row>1</th><td>3      </td><td>2      </td><td>22     </td><td>1      </td><td>0      </td><td> 7.2500</td><td>4      </td><td>0      </td></tr>\n",
       "\t<tr><th scope=row>2</th><td>1      </td><td>1      </td><td>38     </td><td>1      </td><td>0      </td><td>71.2833</td><td>2      </td><td>1      </td></tr>\n",
       "\t<tr><th scope=row>3</th><td>3      </td><td>1      </td><td>26     </td><td>0      </td><td>0      </td><td> 7.9250</td><td>4      </td><td>1      </td></tr>\n",
       "\t<tr><th scope=row>4</th><td>1      </td><td>1      </td><td>35     </td><td>1      </td><td>0      </td><td>53.1000</td><td>4      </td><td>1      </td></tr>\n",
       "\t<tr><th scope=row>5</th><td>3      </td><td>2      </td><td>35     </td><td>0      </td><td>0      </td><td> 8.0500</td><td>4      </td><td>0      </td></tr>\n",
       "\t<tr><th scope=row>7</th><td>1      </td><td>2      </td><td>54     </td><td>0      </td><td>0      </td><td>51.8625</td><td>4      </td><td>0      </td></tr>\n",
       "</tbody>\n",
       "</table>\n"
      ],
      "text/latex": [
       "\\begin{tabular}{r|llllllll}\n",
       "  & Pclass & Sex & Age & SibSp & Parch & Fare & Embarked & Survived\\\\\n",
       "\\hline\n",
       "\t1 & 3       & 2       & 22      & 1       & 0       &  7.2500 & 4       & 0      \\\\\n",
       "\t2 & 1       & 1       & 38      & 1       & 0       & 71.2833 & 2       & 1      \\\\\n",
       "\t3 & 3       & 1       & 26      & 0       & 0       &  7.9250 & 4       & 1      \\\\\n",
       "\t4 & 1       & 1       & 35      & 1       & 0       & 53.1000 & 4       & 1      \\\\\n",
       "\t5 & 3       & 2       & 35      & 0       & 0       &  8.0500 & 4       & 0      \\\\\n",
       "\t7 & 1       & 2       & 54      & 0       & 0       & 51.8625 & 4       & 0      \\\\\n",
       "\\end{tabular}\n"
      ],
      "text/markdown": [
       "\n",
       "| <!--/--> | Pclass | Sex | Age | SibSp | Parch | Fare | Embarked | Survived |\n",
       "|---|---|---|---|---|---|---|---|---|\n",
       "| 1 | 3       | 2       | 22      | 1       | 0       |  7.2500 | 4       | 0       |\n",
       "| 2 | 1       | 1       | 38      | 1       | 0       | 71.2833 | 2       | 1       |\n",
       "| 3 | 3       | 1       | 26      | 0       | 0       |  7.9250 | 4       | 1       |\n",
       "| 4 | 1       | 1       | 35      | 1       | 0       | 53.1000 | 4       | 1       |\n",
       "| 5 | 3       | 2       | 35      | 0       | 0       |  8.0500 | 4       | 0       |\n",
       "| 7 | 1       | 2       | 54      | 0       | 0       | 51.8625 | 4       | 0       |\n",
       "\n"
      ],
      "text/plain": [
       "  Pclass Sex Age SibSp Parch Fare    Embarked Survived\n",
       "1 3      2   22  1     0      7.2500 4        0       \n",
       "2 1      1   38  1     0     71.2833 2        1       \n",
       "3 3      1   26  0     0      7.9250 4        1       \n",
       "4 1      1   35  1     0     53.1000 4        1       \n",
       "5 3      2   35  0     0      8.0500 4        0       \n",
       "7 1      2   54  0     0     51.8625 4        0       "
      ]
     },
     "metadata": {},
     "output_type": "display_data"
    }
   ],
   "source": [
    "# From categorical to numerical \n",
    "data$Sex <-  as.integer(data$Sex)\n",
    "data$Embarked <- as.integer(data$Embarked)\n",
    "data$Survived <- as.integer(data$Survived)\n",
    "data$Survived = as.factor(data$Survived)\n",
    "head(data)"
   ]
  },
  {
   "cell_type": "markdown",
   "id": "prerequisite-target",
   "metadata": {},
   "source": [
    "# Dataset Dividing"
   ]
  },
  {
   "cell_type": "code",
   "execution_count": 232,
   "id": "rough-opposition",
   "metadata": {},
   "outputs": [],
   "source": [
    "train_index <- createDataPartition(data$Survived, p=0.9, list=FALSE)\n",
    "train_set <- data[train_index,]\n",
    "test_set <- data[-train_index,] "
   ]
  },
  {
   "cell_type": "code",
   "execution_count": 233,
   "id": "executive-detail",
   "metadata": {},
   "outputs": [
    {
     "data": {
      "text/html": [
       "<ol class=list-inline>\n",
       "\t<li>643</li>\n",
       "\t<li>8</li>\n",
       "</ol>\n"
      ],
      "text/latex": [
       "\\begin{enumerate*}\n",
       "\\item 643\n",
       "\\item 8\n",
       "\\end{enumerate*}\n"
      ],
      "text/markdown": [
       "1. 643\n",
       "2. 8\n",
       "\n",
       "\n"
      ],
      "text/plain": [
       "[1] 643   8"
      ]
     },
     "metadata": {},
     "output_type": "display_data"
    },
    {
     "data": {
      "text/html": [
       "<ol class=list-inline>\n",
       "\t<li>71</li>\n",
       "\t<li>8</li>\n",
       "</ol>\n"
      ],
      "text/latex": [
       "\\begin{enumerate*}\n",
       "\\item 71\n",
       "\\item 8\n",
       "\\end{enumerate*}\n"
      ],
      "text/markdown": [
       "1. 71\n",
       "2. 8\n",
       "\n",
       "\n"
      ],
      "text/plain": [
       "[1] 71  8"
      ]
     },
     "metadata": {},
     "output_type": "display_data"
    }
   ],
   "source": [
    "dim(train_set)\n",
    "dim(test_set)"
   ]
  },
  {
   "cell_type": "markdown",
   "id": "placed-range",
   "metadata": {},
   "source": [
    "# Model"
   ]
  },
  {
   "cell_type": "code",
   "execution_count": 234,
   "id": "floating-sherman",
   "metadata": {},
   "outputs": [],
   "source": [
    "# To achieve reproducible model; set the random seed number\n",
    "set.seed(100)\n",
    "\n",
    "# Build model\n",
    "model <- train(Survived ~ ., \n",
    "               data = train_set,\n",
    "               method = \"svmPoly\",\n",
    "               na.action = na.omit,\n",
    "               preProcess=c(\"scale\",\"center\"),\n",
    "               trControl= trainControl(method=\"none\"),\n",
    "               tuneGrid = data.frame(degree=1,scale=1,C=1)\n",
    ")"
   ]
  },
  {
   "cell_type": "code",
   "execution_count": 235,
   "id": "intended-quick",
   "metadata": {},
   "outputs": [],
   "source": [
    "model_train_pred <- predict(model, train_set)\n",
    "model_test_pred <- predict(model, test_set)"
   ]
  },
  {
   "cell_type": "code",
   "execution_count": 236,
   "id": "chubby-slovenia",
   "metadata": {},
   "outputs": [
    {
     "data": {
      "text/plain": [
       "Confusion Matrix and Statistics\n",
       "\n",
       "          Reference\n",
       "Prediction  0  1\n",
       "         0 34 11\n",
       "         1  8 18\n",
       "                                          \n",
       "               Accuracy : 0.7324          \n",
       "                 95% CI : (0.6141, 0.8306)\n",
       "    No Information Rate : 0.5915          \n",
       "    P-Value [Acc > NIR] : 0.009644        \n",
       "                                          \n",
       "                  Kappa : 0.4372          \n",
       "                                          \n",
       " Mcnemar's Test P-Value : 0.646355        \n",
       "                                          \n",
       "            Sensitivity : 0.8095          \n",
       "            Specificity : 0.6207          \n",
       "         Pos Pred Value : 0.7556          \n",
       "         Neg Pred Value : 0.6923          \n",
       "             Prevalence : 0.5915          \n",
       "         Detection Rate : 0.4789          \n",
       "   Detection Prevalence : 0.6338          \n",
       "      Balanced Accuracy : 0.7151          \n",
       "                                          \n",
       "       'Positive' Class : 0               \n",
       "                                          "
      ]
     },
     "metadata": {},
     "output_type": "display_data"
    }
   ],
   "source": [
    "confusionMatrix(model_test_pred, test_set$Survived)"
   ]
  },
  {
   "cell_type": "code",
   "execution_count": null,
   "id": "broadband-exposure",
   "metadata": {},
   "outputs": [],
   "source": []
  }
 ],
 "metadata": {
  "kernelspec": {
   "display_name": "R",
   "language": "R",
   "name": "ir"
  },
  "language_info": {
   "codemirror_mode": "r",
   "file_extension": ".r",
   "mimetype": "text/x-r-source",
   "name": "R",
   "pygments_lexer": "r",
   "version": "3.6.1"
  }
 },
 "nbformat": 4,
 "nbformat_minor": 5
}
